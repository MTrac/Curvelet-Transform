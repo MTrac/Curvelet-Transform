{
 "cells": [
  {
   "cell_type": "code",
   "execution_count": 1,
   "metadata": {},
   "outputs": [],
   "source": [
    "from curvelets import curvelet_transform\n",
    "import numpy as np\n",
    "from matplotlib import pyplot as plt\n",
    "import functools"
   ]
  },
  {
   "cell_type": "code",
   "execution_count": 2,
   "metadata": {},
   "outputs": [
    {
     "name": "stdout",
     "output_type": "stream",
     "text": [
      "Separability :\n",
      "    - transform : 0.0\n",
      "    - reconstruction :  0.0\n"
     ]
    }
   ],
   "source": [
    "def make_circle(size, radius):\n",
    "    x = np.arange(-size//2, size//2)/(size//2)\n",
    "    x,y = np.meshgrid(x,x)\n",
    "    return (x**2 + y**2 < radius**2).astype(np.float)\n",
    "\n",
    "def test():\n",
    "    \"\"\"\n",
    "    Test of shapes\n",
    "    \"\"\"\n",
    "    n1 = 3\n",
    "    n2 = 4\n",
    "    n_angles = [2,4,6]\n",
    "    border=\"toric\"\n",
    "    size_image = 256\n",
    "    curv_trans = curvelet_transform(size_image,n_angles)  \n",
    "    im = np.random.randn(n1, n2, size_image, size_image)\n",
    "    trans= curv_trans(im)\n",
    "    print([arr.shape for arr in trans])\n",
    "    \n",
    "def test2():\n",
    "    \"Test of the geometrical explainability of the curvelet transform. And test of the reconstruction\"\n",
    "    n1 = 3\n",
    "    n2 = 4\n",
    "    n_angles = [2,4,6]\n",
    "    border=\"toric\"\n",
    "    size_image = 64\n",
    "    curv_trans = curvelet_transform(size_image,n_angles)  \n",
    "    im = make_circle(size_image, 0.7)\n",
    "    trans= curv_trans(im)\n",
    "    for tr in trans:\n",
    "        for ang in range(tr.shape[0]):\n",
    "            for phase in range(tr.shape[1]):\n",
    "                plt.imshow(tr[ang,phase,:,:])\n",
    "                plt.show()\n",
    "            print(\"############################\")\n",
    "    \n",
    "    im_rec = curv_trans.inverse(trans)\n",
    "    plt.imshow(np.hstack((im,im_rec)))\n",
    "    plt.colorbar()\n",
    "    plt.show()\n",
    "\n",
    "def test3():\n",
    "    \"Test of the orthonormality of the transform\"\n",
    "    n1 = 3\n",
    "    n2 = 4\n",
    "    size_image = 64;\n",
    "    n_angles = [2,4,6]\n",
    "    im = np.random.randn(n1,n2,size_image,size_image)\n",
    "    curv_trans = curvelet_transform(size_image,n_angles)\n",
    "    trans= curv_trans(im)\n",
    "    norm_t = functools.reduce(lambda a, b: a+b, [np.linalg.norm(arr)**2 for arr in trans])\n",
    "    norm_i = np.linalg.norm(im)**2\n",
    "    print((norm_t - norm_i)/norm_i)\n",
    "    \n",
    "def test4():\n",
    "    \"\"\"\n",
    "    Test for the separability of the transform and its reconstruction\n",
    "    \"\"\"\n",
    "    n1 = 3\n",
    "    n2 = 4\n",
    "    n_angles = [2,4,6]\n",
    "    size_image = 512\n",
    "    curv_trans = curvelet_transform(size_image,n_angles)\n",
    "    \n",
    "    im = np.random.randn(n1, n2, size_image, size_image)\n",
    "    curv_transform1 = [[ curv_trans(im[i,j,:,:]) for j in range(n2) ] for i in range(n1)]\n",
    "    curv_transform1 = [np.array( [[ curv_transform1[i][j][k] for j in range(n2) ] \n",
    "                                                             for i in range(n1) ]\n",
    "                               )\n",
    "                                  for k in range(len(curv_transform1[0][0]))\n",
    "                      ]\n",
    "    curv_transform2 = curv_trans(im)\n",
    "    dist_transforms = functools.reduce(lambda a, b: a+b, [np.linalg.norm(c1-c2)**2 for c1, c2 in zip(curv_transform1, curv_transform2)])\n",
    "    norm_transform1 = functools.reduce(lambda a, b: a+b, [np.linalg.norm(c1)**2 for c1 in curv_transform1])\n",
    "    \n",
    "    print(\"Separability :\")\n",
    "    print(\"    - transform :\", dist_transforms/norm_transform1)\n",
    "    \n",
    "    im_rec1 = np.array([[ curv_trans.inverse([c[i,j,...] for c in curv_transform2]) for j in range(n2) ] \n",
    "                                                                                    for i in range(n1) \n",
    "                       ]\n",
    "                      )\n",
    "    im_rec2 = curv_trans.inverse(curv_transform2)\n",
    "    print(\"    - reconstruction : \", np.linalg.norm(im_rec1 - im_rec2)/np.linalg.norm(im_rec1))\n",
    "\n",
    "    \n",
    "test4()   \n",
    "    "
   ]
  },
  {
   "cell_type": "code",
   "execution_count": null,
   "metadata": {},
   "outputs": [],
   "source": []
  },
  {
   "cell_type": "code",
   "execution_count": null,
   "metadata": {},
   "outputs": [],
   "source": []
  }
 ],
 "metadata": {
  "kernelspec": {
   "display_name": "Python 3",
   "language": "python",
   "name": "python3"
  },
  "language_info": {
   "codemirror_mode": {
    "name": "ipython",
    "version": 3
   },
   "file_extension": ".py",
   "mimetype": "text/x-python",
   "name": "python",
   "nbconvert_exporter": "python",
   "pygments_lexer": "ipython3",
   "version": "3.6.9"
  }
 },
 "nbformat": 4,
 "nbformat_minor": 2
}
