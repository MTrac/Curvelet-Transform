{
 "cells": [
  {
   "cell_type": "code",
   "execution_count": 1,
   "metadata": {},
   "outputs": [],
   "source": [
    "import numpy as np\n",
    "import matplotlib.pyplot as plt\n",
    "import math\n",
    "from curvelets import directional_filter_bank\n",
    "#import anytree\n",
    "import functools"
   ]
  },
  {
   "cell_type": "code",
   "execution_count": 2,
   "metadata": {},
   "outputs": [
    {
     "name": "stdout",
     "output_type": "stream",
     "text": [
      "Separability :\n",
      "    - transform : 0.0\n",
      "                  0.0\n",
      "                  0.0\n",
      "    - reconstruction :  0.0\n",
      "accuracy transform + reconstruction : 5.669802354550548e-05\n",
      "norm checking : -3.52362072345475e-07\n",
      "norm checking : 49082.20624605959\n",
      "norm checking : 49082.2235407675\n"
     ]
    }
   ],
   "source": [
    "   \n",
    "def test():\n",
    "    n1 = 3\n",
    "    n2 = 4\n",
    "    n_angles = 6\n",
    "    border=\"toric\"\n",
    "    size_image = 64\n",
    "    dfb = directional_filter_bank(size_image,n_angles, border=\"toric\")\n",
    "    \n",
    "    im = np.random.randn(n1, n2, size_image, size_image)\n",
    "    dfb_transform1 = [[ dfb(im[i,j,:,:]) for j in range(n2) ] for i in range(n1)]\n",
    "    #print(type(dfb_transform1[0][0]))\n",
    "    #print(type(dfb_transform1[0][0][0]))\n",
    "    lf = np.array( [[ dfb_transform1[i][j][0] for j in range(n2) ] for i in range(n1)] )\n",
    "    hf = np.array( [[ dfb_transform1[i][j][1] for j in range(n2) ] for i in range(n1)] )\n",
    "    vf = np.array( [[ dfb_transform1[i][j][2] for j in range(n2) ] for i in range(n1)] )\n",
    "    #lf = np.array( [ n1 , n2 ] + dfb_transform1[0,0][0].shape)\n",
    "    \n",
    "    dfb_transform2 = dfb(im)\n",
    "    print(\"Separability :\")\n",
    "    print(\"    - transform :\", np.linalg.norm(dfb_transform2[0] - lf)/np.linalg.norm(lf))\n",
    "    print(\"                 \", np.linalg.norm(dfb_transform2[1] - hf)/np.linalg.norm(hf))\n",
    "    print(\"                 \", np.linalg.norm(dfb_transform2[2] - vf)/np.linalg.norm(vf))\n",
    "    \n",
    "    im_rec1 = np.array([[ dfb.reconstruction(lf[i,j,:,:], hf[i,j,:,:], vf[i,j,:,:]) for j in range(n2) ] \n",
    "                                                                                    for i in range(n1) \n",
    "                       ]\n",
    "                      )\n",
    "    im_rec2 = dfb.reconstruction(*dfb_transform2)\n",
    "    print(\"    - reconstruction : \", np.linalg.norm(im_rec1 - im_rec2)/np.linalg.norm(im_rec1))\n",
    "    print(\"accuracy transform + reconstruction :\", np.linalg.norm(im - im_rec2)/np.linalg.norm(im))\n",
    "    print(\"norm checking :\", (     np.linalg.norm(im) ** 2 \n",
    "                                 - np.linalg.norm(dfb_transform2[0]) ** 2\n",
    "                                 - np.linalg.norm(dfb_transform2[1]) ** 2\n",
    "                                 - np.linalg.norm(dfb_transform2[2]) ** 2\n",
    "                              )/( np.linalg.norm(im) ** 2 )\n",
    "         )\n",
    "    print(\"norm checking :\",      np.linalg.norm(im) ** 2 )\n",
    "    print(\"norm checking :\", (   np.linalg.norm(dfb_transform2[0]) ** 2\n",
    "                               + np.linalg.norm(dfb_transform2[1]) ** 2\n",
    "                               + np.linalg.norm(dfb_transform2[2]) ** 2\n",
    "                             )\n",
    "         )\n",
    "    \n",
    "    \n",
    "test()"
   ]
  },
  {
   "cell_type": "code",
   "execution_count": null,
   "metadata": {},
   "outputs": [],
   "source": []
  },
  {
   "cell_type": "code",
   "execution_count": null,
   "metadata": {},
   "outputs": [],
   "source": []
  }
 ],
 "metadata": {
  "kernelspec": {
   "display_name": "Python 3",
   "language": "python",
   "name": "python3"
  },
  "language_info": {
   "codemirror_mode": {
    "name": "ipython",
    "version": 3
   },
   "file_extension": ".py",
   "mimetype": "text/x-python",
   "name": "python",
   "nbconvert_exporter": "python",
   "pygments_lexer": "ipython3",
   "version": "3.6.9"
  }
 },
 "nbformat": 4,
 "nbformat_minor": 2
}
